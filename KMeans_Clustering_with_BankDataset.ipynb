{
  "nbformat": 4,
  "nbformat_minor": 0,
  "metadata": {
    "kernelspec": {
      "display_name": "Python 3",
      "language": "python",
      "name": "python3"
    },
    "language_info": {
      "codemirror_mode": {
        "name": "ipython",
        "version": 3
      },
      "file_extension": ".py",
      "mimetype": "text/x-python",
      "name": "python",
      "nbconvert_exporter": "python",
      "pygments_lexer": "ipython3",
      "version": "3.7.7"
    },
    "colab": {
      "name": "01. K-Means Clustering Notes.ipynb",
      "provenance": [],
      "include_colab_link": true
    }
  },
  "cells": [
    {
      "cell_type": "markdown",
      "metadata": {
        "id": "view-in-github",
        "colab_type": "text"
      },
      "source": [
        "<a href=\"https://colab.research.google.com/github/mohithxoxo/unsupervised-Learning/blob/master/KMeans_Clustering_with_BankDataset.ipynb\" target=\"_parent\"><img src=\"https://colab.research.google.com/assets/colab-badge.svg\" alt=\"Open In Colab\"/></a>"
      ]
    },
    {
      "cell_type": "markdown",
      "metadata": {
        "id": "LT_CJDWn0dHY",
        "colab_type": "text"
      },
      "source": [
        "# 1. K-Means Clustering:"
      ]
    },
    {
      "cell_type": "code",
      "metadata": {
        "id": "aUtxUo6y-01V",
        "colab_type": "code",
        "colab": {}
      },
      "source": [
        "import warnings\n",
        "warnings.filterwarnings(\"ignore\")"
      ],
      "execution_count": 230,
      "outputs": []
    },
    {
      "cell_type": "code",
      "metadata": {
        "id": "sjt-mpeH0dHk",
        "colab_type": "code",
        "colab": {
          "base_uri": "https://localhost:8080/",
          "height": 197
        },
        "outputId": "75407ae2-b255-42a9-f926-31c34f1eb2e5"
      },
      "source": [
        "# Importing the data.\n",
        "import pandas as pd\n",
        "data = pd.read_csv(\"https://raw.githubusercontent.com/mohithxoxo/Datasets/master/fraud_transactions.csv\")\n",
        "data.head()"
      ],
      "execution_count": 231,
      "outputs": [
        {
          "output_type": "execute_result",
          "data": {
            "text/html": [
              "<div>\n",
              "<style scoped>\n",
              "    .dataframe tbody tr th:only-of-type {\n",
              "        vertical-align: middle;\n",
              "    }\n",
              "\n",
              "    .dataframe tbody tr th {\n",
              "        vertical-align: top;\n",
              "    }\n",
              "\n",
              "    .dataframe thead th {\n",
              "        text-align: right;\n",
              "    }\n",
              "</style>\n",
              "<table border=\"1\" class=\"dataframe\">\n",
              "  <thead>\n",
              "    <tr style=\"text-align: right;\">\n",
              "      <th></th>\n",
              "      <th>starttime</th>\n",
              "      <th>stoptime</th>\n",
              "      <th>anumber</th>\n",
              "      <th>bnumber</th>\n",
              "      <th>duration</th>\n",
              "      <th>fee</th>\n",
              "      <th>destination</th>\n",
              "      <th>type</th>\n",
              "      <th>label</th>\n",
              "    </tr>\n",
              "  </thead>\n",
              "  <tbody>\n",
              "    <tr>\n",
              "      <th>0</th>\n",
              "      <td>2018-05-02 09:13:24</td>\n",
              "      <td>2018-05-02 09:20:38</td>\n",
              "      <td>62770692960</td>\n",
              "      <td>1500200</td>\n",
              "      <td>434</td>\n",
              "      <td>6000</td>\n",
              "      <td>callcenter</td>\n",
              "      <td>Injapati</td>\n",
              "      <td>0</td>\n",
              "    </tr>\n",
              "    <tr>\n",
              "      <th>1</th>\n",
              "      <td>2018-05-18 16:49:19</td>\n",
              "      <td>2018-05-18 16:52:11</td>\n",
              "      <td>62770692960</td>\n",
              "      <td>1500200</td>\n",
              "      <td>172</td>\n",
              "      <td>2250</td>\n",
              "      <td>callcenter</td>\n",
              "      <td>Injapati</td>\n",
              "      <td>0</td>\n",
              "    </tr>\n",
              "    <tr>\n",
              "      <th>2</th>\n",
              "      <td>2018-05-18 18:15:17</td>\n",
              "      <td>2018-05-18 18:18:20</td>\n",
              "      <td>62770692960</td>\n",
              "      <td>1500200</td>\n",
              "      <td>183</td>\n",
              "      <td>3000</td>\n",
              "      <td>callcenter</td>\n",
              "      <td>Injapati</td>\n",
              "      <td>0</td>\n",
              "    </tr>\n",
              "    <tr>\n",
              "      <th>3</th>\n",
              "      <td>2018-05-31 08:52:46</td>\n",
              "      <td>2018-05-31 08:53:03</td>\n",
              "      <td>62770692253</td>\n",
              "      <td>1500788</td>\n",
              "      <td>17</td>\n",
              "      <td>750</td>\n",
              "      <td>callcenter</td>\n",
              "      <td>Injapati</td>\n",
              "      <td>0</td>\n",
              "    </tr>\n",
              "    <tr>\n",
              "      <th>4</th>\n",
              "      <td>2018-05-31 08:53:10</td>\n",
              "      <td>2018-05-31 08:53:24</td>\n",
              "      <td>62770692253</td>\n",
              "      <td>1500788</td>\n",
              "      <td>14</td>\n",
              "      <td>750</td>\n",
              "      <td>callcenter</td>\n",
              "      <td>Injapati</td>\n",
              "      <td>0</td>\n",
              "    </tr>\n",
              "  </tbody>\n",
              "</table>\n",
              "</div>"
            ],
            "text/plain": [
              "             starttime             stoptime  ...      type label\n",
              "0  2018-05-02 09:13:24  2018-05-02 09:20:38  ...  Injapati     0\n",
              "1  2018-05-18 16:49:19  2018-05-18 16:52:11  ...  Injapati     0\n",
              "2  2018-05-18 18:15:17  2018-05-18 18:18:20  ...  Injapati     0\n",
              "3  2018-05-31 08:52:46  2018-05-31 08:53:03  ...  Injapati     0\n",
              "4  2018-05-31 08:53:10  2018-05-31 08:53:24  ...  Injapati     0\n",
              "\n",
              "[5 rows x 9 columns]"
            ]
          },
          "metadata": {
            "tags": []
          },
          "execution_count": 231
        }
      ]
    },
    {
      "cell_type": "code",
      "metadata": {
        "id": "kbgzC4Yl2EW4",
        "colab_type": "code",
        "colab": {
          "base_uri": "https://localhost:8080/",
          "height": 141
        },
        "outputId": "cf86d9bf-0cd1-43e6-9d15-57a23315142c"
      },
      "source": [
        "data['type'].value_counts()"
      ],
      "execution_count": 232,
      "outputs": [
        {
          "output_type": "execute_result",
          "data": {
            "text/plain": [
              "SLJJ          7093\n",
              "SLI 001       4035\n",
              "Lokal          153\n",
              "SLI 007        102\n",
              "VoIP 01017      21\n",
              "Injapati        14\n",
              "Name: type, dtype: int64"
            ]
          },
          "metadata": {
            "tags": []
          },
          "execution_count": 232
        }
      ]
    },
    {
      "cell_type": "code",
      "metadata": {
        "id": "4dM2V_SM2jID",
        "colab_type": "code",
        "colab": {}
      },
      "source": [
        "from sklearn.preprocessing import LabelEncoder\n",
        "le = LabelEncoder()\n",
        "data['type'] = le.fit_transform(data['type'])\n",
        "data['destination'] = le.fit_transform(data['destination'])"
      ],
      "execution_count": 233,
      "outputs": []
    },
    {
      "cell_type": "code",
      "metadata": {
        "id": "nVckl4LU2_GS",
        "colab_type": "code",
        "colab": {}
      },
      "source": [
        "data = data.drop(columns=['starttime','stoptime','bnumber'])"
      ],
      "execution_count": 234,
      "outputs": []
    },
    {
      "cell_type": "code",
      "metadata": {
        "id": "aFQgkSuB28lg",
        "colab_type": "code",
        "colab": {}
      },
      "source": [
        "X = data.iloc[:,:-1]\n",
        "y = data.iloc[:,-1]"
      ],
      "execution_count": 235,
      "outputs": []
    },
    {
      "cell_type": "code",
      "metadata": {
        "id": "jZwkFaGi6zfq",
        "colab_type": "code",
        "colab": {
          "base_uri": "https://localhost:8080/",
          "height": 158
        },
        "outputId": "4c557d1c-1ee9-4804-a6f7-3e2e09f06547"
      },
      "source": [
        "from imblearn.over_sampling import RandomOverSampler\n",
        "from collections import Counter\n",
        "sm = RandomOverSampler()\n",
        "\n",
        "print(\"Before \", '\\n',data.iloc[:,-1].value_counts(), '\\n',)\n",
        "X_sm , y_sm = sm.fit_resample(X,y)\n",
        "print(\"After \", '\\n',Counter(y_sm).keys(), '\\n',Counter(y_sm).values())"
      ],
      "execution_count": 236,
      "outputs": [
        {
          "output_type": "stream",
          "text": [
            "Before  \n",
            " 0    11021\n",
            "1      397\n",
            "Name: label, dtype: int64 \n",
            "\n",
            "After  \n",
            " dict_keys([0, 1]) \n",
            " dict_values([11021, 11021])\n"
          ],
          "name": "stdout"
        }
      ]
    },
    {
      "cell_type": "code",
      "metadata": {
        "id": "NpmRX-LHDNCq",
        "colab_type": "code",
        "colab": {
          "base_uri": "https://localhost:8080/",
          "height": 406
        },
        "outputId": "1b3b9ee5-326b-40a2-a9ad-ed662432c8d4"
      },
      "source": [
        "X_sm = pd.DataFrame(X_sm)\n",
        "X_sm"
      ],
      "execution_count": 237,
      "outputs": [
        {
          "output_type": "execute_result",
          "data": {
            "text/html": [
              "<div>\n",
              "<style scoped>\n",
              "    .dataframe tbody tr th:only-of-type {\n",
              "        vertical-align: middle;\n",
              "    }\n",
              "\n",
              "    .dataframe tbody tr th {\n",
              "        vertical-align: top;\n",
              "    }\n",
              "\n",
              "    .dataframe thead th {\n",
              "        text-align: right;\n",
              "    }\n",
              "</style>\n",
              "<table border=\"1\" class=\"dataframe\">\n",
              "  <thead>\n",
              "    <tr style=\"text-align: right;\">\n",
              "      <th></th>\n",
              "      <th>0</th>\n",
              "      <th>1</th>\n",
              "      <th>2</th>\n",
              "      <th>3</th>\n",
              "      <th>4</th>\n",
              "    </tr>\n",
              "  </thead>\n",
              "  <tbody>\n",
              "    <tr>\n",
              "      <th>0</th>\n",
              "      <td>62770692960</td>\n",
              "      <td>434</td>\n",
              "      <td>6000</td>\n",
              "      <td>119</td>\n",
              "      <td>0</td>\n",
              "    </tr>\n",
              "    <tr>\n",
              "      <th>1</th>\n",
              "      <td>62770692960</td>\n",
              "      <td>172</td>\n",
              "      <td>2250</td>\n",
              "      <td>119</td>\n",
              "      <td>0</td>\n",
              "    </tr>\n",
              "    <tr>\n",
              "      <th>2</th>\n",
              "      <td>62770692960</td>\n",
              "      <td>183</td>\n",
              "      <td>3000</td>\n",
              "      <td>119</td>\n",
              "      <td>0</td>\n",
              "    </tr>\n",
              "    <tr>\n",
              "      <th>3</th>\n",
              "      <td>62770692253</td>\n",
              "      <td>17</td>\n",
              "      <td>750</td>\n",
              "      <td>119</td>\n",
              "      <td>0</td>\n",
              "    </tr>\n",
              "    <tr>\n",
              "      <th>4</th>\n",
              "      <td>62770692253</td>\n",
              "      <td>14</td>\n",
              "      <td>750</td>\n",
              "      <td>119</td>\n",
              "      <td>0</td>\n",
              "    </tr>\n",
              "    <tr>\n",
              "      <th>...</th>\n",
              "      <td>...</td>\n",
              "      <td>...</td>\n",
              "      <td>...</td>\n",
              "      <td>...</td>\n",
              "      <td>...</td>\n",
              "    </tr>\n",
              "    <tr>\n",
              "      <th>22037</th>\n",
              "      <td>62770692960</td>\n",
              "      <td>37</td>\n",
              "      <td>8591</td>\n",
              "      <td>20</td>\n",
              "      <td>2</td>\n",
              "    </tr>\n",
              "    <tr>\n",
              "      <th>22038</th>\n",
              "      <td>62770692960</td>\n",
              "      <td>30</td>\n",
              "      <td>4295</td>\n",
              "      <td>20</td>\n",
              "      <td>2</td>\n",
              "    </tr>\n",
              "    <tr>\n",
              "      <th>22039</th>\n",
              "      <td>62770692960</td>\n",
              "      <td>69</td>\n",
              "      <td>12886</td>\n",
              "      <td>20</td>\n",
              "      <td>2</td>\n",
              "    </tr>\n",
              "    <tr>\n",
              "      <th>22040</th>\n",
              "      <td>62770692960</td>\n",
              "      <td>134</td>\n",
              "      <td>21477</td>\n",
              "      <td>20</td>\n",
              "      <td>2</td>\n",
              "    </tr>\n",
              "    <tr>\n",
              "      <th>22041</th>\n",
              "      <td>62770692960</td>\n",
              "      <td>69</td>\n",
              "      <td>12886</td>\n",
              "      <td>20</td>\n",
              "      <td>2</td>\n",
              "    </tr>\n",
              "  </tbody>\n",
              "</table>\n",
              "<p>22042 rows × 5 columns</p>\n",
              "</div>"
            ],
            "text/plain": [
              "                 0    1      2    3  4\n",
              "0      62770692960  434   6000  119  0\n",
              "1      62770692960  172   2250  119  0\n",
              "2      62770692960  183   3000  119  0\n",
              "3      62770692253   17    750  119  0\n",
              "4      62770692253   14    750  119  0\n",
              "...            ...  ...    ...  ... ..\n",
              "22037  62770692960   37   8591   20  2\n",
              "22038  62770692960   30   4295   20  2\n",
              "22039  62770692960   69  12886   20  2\n",
              "22040  62770692960  134  21477   20  2\n",
              "22041  62770692960   69  12886   20  2\n",
              "\n",
              "[22042 rows x 5 columns]"
            ]
          },
          "metadata": {
            "tags": []
          },
          "execution_count": 237
        }
      ]
    },
    {
      "cell_type": "markdown",
      "metadata": {
        "id": "oBVFgTHi0dIE",
        "colab_type": "text"
      },
      "source": [
        "# Using the Elbow Method to find the Optimal No. of clusters."
      ]
    },
    {
      "cell_type": "code",
      "metadata": {
        "id": "bCOqgDWl0dIL",
        "colab_type": "code",
        "colab": {
          "base_uri": "https://localhost:8080/",
          "height": 294
        },
        "outputId": "264d5a88-e6f5-4809-d980-45ecb7841f15"
      },
      "source": [
        "from sklearn.cluster import KMeans\n",
        "wcss_lst = []\n",
        "for i in range(1, 11):\n",
        "    kmeans = KMeans(n_clusters=i, init='k-means++', random_state=42)\n",
        "    kmeans.fit(X_sm)\n",
        "    wcss = kmeans.inertia_\n",
        "    wcss_lst.append(wcss)\n",
        "\n",
        "\n",
        "import matplotlib.pyplot as plt\n",
        "plt.plot(range(1, 11), wcss_lst)\n",
        "plt.title(\"The Elbow Method\")\n",
        "plt.xlabel(\"No. of clusters\")\n",
        "plt.ylabel(\"WCSS\")\n",
        "plt.show()"
      ],
      "execution_count": 238,
      "outputs": [
        {
          "output_type": "display_data",
          "data": {
            "image/png": "[encoded data removed]",
            "text/plain": [
              "<Figure size 432x288 with 1 Axes>"
            ]
          },
          "metadata": {
            "tags": [],
            "needs_background": "light"
          }
        }
      ]
    },
    {
      "cell_type": "markdown",
      "metadata": {
        "id": "-70-Ep2W0dIY",
        "colab_type": "text"
      },
      "source": [
        "As for No. of clusters = 4 the graph becomes almost flat, it decreases very slowly, hence selecting 4 Clusters as our optimum no."
      ]
    },
    {
      "cell_type": "code",
      "metadata": {
        "id": "r6Ztb9d10dIa",
        "colab_type": "code",
        "colab": {
          "base_uri": "https://localhost:8080/",
          "height": 70
        },
        "outputId": "04c2b93c-eff4-4b0e-e8b2-45eff989b4f4"
      },
      "source": [
        "# Training the Model on 4 clusters\n",
        "kmeans = KMeans(n_clusters=4, init=\"k-means++\", random_state=42)\n",
        "kmeans.fit(X_sm)"
      ],
      "execution_count": 239,
      "outputs": [
        {
          "output_type": "execute_result",
          "data": {
            "text/plain": [
              "KMeans(algorithm='auto', copy_x=True, init='k-means++', max_iter=300,\n",
              "       n_clusters=4, n_init=10, n_jobs=None, precompute_distances='auto',\n",
              "       random_state=42, tol=0.0001, verbose=0)"
            ]
          },
          "metadata": {
            "tags": []
          },
          "execution_count": 239
        }
      ]
    },
    {
      "cell_type": "markdown",
      "metadata": {
        "id": "fneKlxiu0dIj",
        "colab_type": "text"
      },
      "source": [
        "Each of the cluster is a grp of customers n that will be our dependent variable."
      ]
    },
    {
      "cell_type": "code",
      "metadata": {
        "id": "yLrJ3gr-0dIl",
        "colab_type": "code",
        "colab": {}
      },
      "source": [
        "y_hat = kmeans.fit_predict(X_sm)\n",
        "X_sm['y_hat'] = y_hat\n",
        "X_sm['labels'] = y_sm"
      ],
      "execution_count": 240,
      "outputs": []
    },
    {
      "cell_type": "code",
      "metadata": {
        "id": "-n1GsbEaDrST",
        "colab_type": "code",
        "colab": {
          "base_uri": "https://localhost:8080/",
          "height": 105
        },
        "outputId": "29ee9c58-4fc8-4c8a-a756-fb497f031ba2"
      },
      "source": [
        "X_sm['y_hat'].value_counts()"
      ],
      "execution_count": 241,
      "outputs": [
        {
          "output_type": "execute_result",
          "data": {
            "text/plain": [
              "0    14813\n",
              "1     6311\n",
              "3      905\n",
              "2       13\n",
              "Name: y_hat, dtype: int64"
            ]
          },
          "metadata": {
            "tags": []
          },
          "execution_count": 241
        }
      ]
    },
    {
      "cell_type": "code",
      "metadata": {
        "id": "bHlyTZZUCnQ-",
        "colab_type": "code",
        "colab": {
          "base_uri": "https://localhost:8080/",
          "height": 34
        },
        "outputId": "93949125-8536-406d-dfde-480c1c1b1e1e"
      },
      "source": [
        "import numpy as np\n",
        "counts = np.bincount(y_hat[y_hat >= 0])\n",
        "# Print the result\n",
        "print(counts)"
      ],
      "execution_count": 242,
      "outputs": [
        {
          "output_type": "stream",
          "text": [
            "[14813  6311    13   905]\n"
          ],
          "name": "stdout"
        }
      ]
    },
    {
      "cell_type": "code",
      "metadata": {
        "id": "aMbkDdPICnlS",
        "colab_type": "code",
        "colab": {}
      },
      "source": [
        "# Create a condition flagging fraud for the smallest clusters \n",
        "X_sm['labels_kmeans'] = np.where((X_sm['y_hat'].isin([3, 1, 2])), 1 , 0)"
      ],
      "execution_count": 243,
      "outputs": []
    },
    {
      "cell_type": "code",
      "metadata": {
        "id": "GF4B6i10CnXr",
        "colab_type": "code",
        "colab": {
          "base_uri": "https://localhost:8080/",
          "height": 230
        },
        "outputId": "a4ba5cd1-937b-4e42-f7a4-3e1f8c3580f6"
      },
      "source": [
        "X_sm['labels'].value_counts"
      ],
      "execution_count": 244,
      "outputs": [
        {
          "output_type": "execute_result",
          "data": {
            "text/plain": [
              "<bound method IndexOpsMixin.value_counts of 0        0\n",
              "1        0\n",
              "2        0\n",
              "3        0\n",
              "4        0\n",
              "        ..\n",
              "22037    1\n",
              "22038    1\n",
              "22039    1\n",
              "22040    1\n",
              "22041    1\n",
              "Name: labels, Length: 22042, dtype: int64>"
            ]
          },
          "metadata": {
            "tags": []
          },
          "execution_count": 244
        }
      ]
    },
    {
      "cell_type": "code",
      "metadata": {
        "id": "KqzCBXIsII2P",
        "colab_type": "code",
        "colab": {
          "base_uri": "https://localhost:8080/",
          "height": 70
        },
        "outputId": "73093fd5-364c-4933-b749-c4b535e61d57"
      },
      "source": [
        "X_sm['labels_kmeans'].value_counts()"
      ],
      "execution_count": 247,
      "outputs": [
        {
          "output_type": "execute_result",
          "data": {
            "text/plain": [
              "0    14813\n",
              "1     7229\n",
              "Name: labels_kmeans, dtype: int64"
            ]
          },
          "metadata": {
            "tags": []
          },
          "execution_count": 247
        }
      ]
    },
    {
      "cell_type": "code",
      "metadata": {
        "id": "cuJj0tYO5uPe",
        "colab_type": "code",
        "colab": {
          "base_uri": "https://localhost:8080/",
          "height": 194
        },
        "outputId": "d0920ffe-3a66-4658-eb94-a617e335192e"
      },
      "source": [
        "from sklearn.metrics import classification_report\n",
        "from sklearn.metrics import accuracy_score\n",
        "print(accuracy_score(X_sm['labels'],X_sm['labels_kmeans']))\n",
        "print(classification_report(X_sm['labels'],X_sm['labels_kmeans']))"
      ],
      "execution_count": 249,
      "outputs": [
        {
          "output_type": "stream",
          "text": [
            "0.22956174575809818\n",
            "              precision    recall  f1-score   support\n",
            "\n",
            "           0       0.30      0.40      0.34     11021\n",
            "           1       0.09      0.06      0.07     11021\n",
            "\n",
            "    accuracy                           0.23     22042\n",
            "   macro avg       0.19      0.23      0.21     22042\n",
            "weighted avg       0.19      0.23      0.21     22042\n",
            "\n"
          ],
          "name": "stdout"
        }
      ]
    },
    {
      "cell_type": "code",
      "metadata": {
        "id": "N0V-tUciBXhx",
        "colab_type": "code",
        "colab": {}
      },
      "source": [
        ""
      ],
      "execution_count": null,
      "outputs": []
    }
  ]
}