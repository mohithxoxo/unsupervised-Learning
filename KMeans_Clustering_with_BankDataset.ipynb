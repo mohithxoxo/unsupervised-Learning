{
  "nbformat": 4,
  "nbformat_minor": 0,
  "metadata": {
    "kernelspec": {
      "display_name": "Python 3",
      "language": "python",
      "name": "python3"
    },
    "language_info": {
      "codemirror_mode": {
        "name": "ipython",
        "version": 3
      },
      "file_extension": ".py",
      "mimetype": "text/x-python",
      "name": "python",
      "nbconvert_exporter": "python",
      "pygments_lexer": "ipython3",
      "version": "3.7.7"
    },
    "colab": {
      "name": "01. K-Means Clustering Notes.ipynb",
      "provenance": [],
      "include_colab_link": true
    }
  },
  "cells": [
    {
      "cell_type": "markdown",
      "metadata": {
        "id": "view-in-github",
        "colab_type": "text"
      },
      "source": [
        "<a href=\"https://colab.research.google.com/github/mohithxoxo/unsupervised-Learning/blob/master/KMeans_Clustering_with_BankDataset.ipynb\" target=\"_parent\"><img src=\"https://colab.research.google.com/assets/colab-badge.svg\" alt=\"Open In Colab\"/></a>"
      ]
    },
    {
      "cell_type": "markdown",
      "metadata": {
        "id": "LT_CJDWn0dHY",
        "colab_type": "text"
      },
      "source": [
        "# 1. K-Means Clustering:"
      ]
    },
    {
      "cell_type": "code",
      "metadata": {
        "id": "aUtxUo6y-01V",
        "colab_type": "code",
        "colab": {}
      },
      "source": [
        "import warnings\n",
        "warnings.filterwarnings(\"ignore\")"
      ],
      "execution_count": 104,
      "outputs": []
    },
    {
      "cell_type": "code",
      "metadata": {
        "id": "sjt-mpeH0dHk",
        "colab_type": "code",
        "colab": {
          "base_uri": "https://localhost:8080/",
          "height": 197
        },
        "outputId": "6e935122-9ba1-48e9-e298-faad0bc31320"
      },
      "source": [
        "# Importing the data.\n",
        "import pandas as pd\n",
        "data = pd.read_csv(\"https://raw.githubusercontent.com/mohithxoxo/Datasets/master/fraud_transactions.csv\")\n",
        "data.head()"
      ],
      "execution_count": 27,
      "outputs": [
        {
          "output_type": "execute_result",
          "data": {
            "text/html": [
              "<div>\n",
              "<style scoped>\n",
              "    .dataframe tbody tr th:only-of-type {\n",
              "        vertical-align: middle;\n",
              "    }\n",
              "\n",
              "    .dataframe tbody tr th {\n",
              "        vertical-align: top;\n",
              "    }\n",
              "\n",
              "    .dataframe thead th {\n",
              "        text-align: right;\n",
              "    }\n",
              "</style>\n",
              "<table border=\"1\" class=\"dataframe\">\n",
              "  <thead>\n",
              "    <tr style=\"text-align: right;\">\n",
              "      <th></th>\n",
              "      <th>starttime</th>\n",
              "      <th>stoptime</th>\n",
              "      <th>anumber</th>\n",
              "      <th>bnumber</th>\n",
              "      <th>duration</th>\n",
              "      <th>fee</th>\n",
              "      <th>destination</th>\n",
              "      <th>type</th>\n",
              "      <th>label</th>\n",
              "    </tr>\n",
              "  </thead>\n",
              "  <tbody>\n",
              "    <tr>\n",
              "      <th>0</th>\n",
              "      <td>2018-05-02 09:13:24</td>\n",
              "      <td>2018-05-02 09:20:38</td>\n",
              "      <td>62770692960</td>\n",
              "      <td>1500200</td>\n",
              "      <td>434</td>\n",
              "      <td>6000</td>\n",
              "      <td>callcenter</td>\n",
              "      <td>Injapati</td>\n",
              "      <td>0</td>\n",
              "    </tr>\n",
              "    <tr>\n",
              "      <th>1</th>\n",
              "      <td>2018-05-18 16:49:19</td>\n",
              "      <td>2018-05-18 16:52:11</td>\n",
              "      <td>62770692960</td>\n",
              "      <td>1500200</td>\n",
              "      <td>172</td>\n",
              "      <td>2250</td>\n",
              "      <td>callcenter</td>\n",
              "      <td>Injapati</td>\n",
              "      <td>0</td>\n",
              "    </tr>\n",
              "    <tr>\n",
              "      <th>2</th>\n",
              "      <td>2018-05-18 18:15:17</td>\n",
              "      <td>2018-05-18 18:18:20</td>\n",
              "      <td>62770692960</td>\n",
              "      <td>1500200</td>\n",
              "      <td>183</td>\n",
              "      <td>3000</td>\n",
              "      <td>callcenter</td>\n",
              "      <td>Injapati</td>\n",
              "      <td>0</td>\n",
              "    </tr>\n",
              "    <tr>\n",
              "      <th>3</th>\n",
              "      <td>2018-05-31 08:52:46</td>\n",
              "      <td>2018-05-31 08:53:03</td>\n",
              "      <td>62770692253</td>\n",
              "      <td>1500788</td>\n",
              "      <td>17</td>\n",
              "      <td>750</td>\n",
              "      <td>callcenter</td>\n",
              "      <td>Injapati</td>\n",
              "      <td>0</td>\n",
              "    </tr>\n",
              "    <tr>\n",
              "      <th>4</th>\n",
              "      <td>2018-05-31 08:53:10</td>\n",
              "      <td>2018-05-31 08:53:24</td>\n",
              "      <td>62770692253</td>\n",
              "      <td>1500788</td>\n",
              "      <td>14</td>\n",
              "      <td>750</td>\n",
              "      <td>callcenter</td>\n",
              "      <td>Injapati</td>\n",
              "      <td>0</td>\n",
              "    </tr>\n",
              "  </tbody>\n",
              "</table>\n",
              "</div>"
            ],
            "text/plain": [
              "             starttime             stoptime  ...      type label\n",
              "0  2018-05-02 09:13:24  2018-05-02 09:20:38  ...  Injapati     0\n",
              "1  2018-05-18 16:49:19  2018-05-18 16:52:11  ...  Injapati     0\n",
              "2  2018-05-18 18:15:17  2018-05-18 18:18:20  ...  Injapati     0\n",
              "3  2018-05-31 08:52:46  2018-05-31 08:53:03  ...  Injapati     0\n",
              "4  2018-05-31 08:53:10  2018-05-31 08:53:24  ...  Injapati     0\n",
              "\n",
              "[5 rows x 9 columns]"
            ]
          },
          "metadata": {
            "tags": []
          },
          "execution_count": 27
        }
      ]
    },
    {
      "cell_type": "code",
      "metadata": {
        "id": "kbgzC4Yl2EW4",
        "colab_type": "code",
        "colab": {
          "base_uri": "https://localhost:8080/",
          "height": 141
        },
        "outputId": "f8c27abe-035d-4621-ffb1-2a5344e353c6"
      },
      "source": [
        "data['type'].value_counts()"
      ],
      "execution_count": 28,
      "outputs": [
        {
          "output_type": "execute_result",
          "data": {
            "text/plain": [
              "SLJJ          7093\n",
              "SLI 001       4035\n",
              "Lokal          153\n",
              "SLI 007        102\n",
              "VoIP 01017      21\n",
              "Injapati        14\n",
              "Name: type, dtype: int64"
            ]
          },
          "metadata": {
            "tags": []
          },
          "execution_count": 28
        }
      ]
    },
    {
      "cell_type": "code",
      "metadata": {
        "id": "4dM2V_SM2jID",
        "colab_type": "code",
        "colab": {}
      },
      "source": [
        "from sklearn.preprocessing import LabelEncoder\n",
        "le = LabelEncoder()\n",
        "data['type'] = le.fit_transform(data['type'])\n",
        "data['destination'] = le.fit_transform(data['destination'])"
      ],
      "execution_count": 29,
      "outputs": []
    },
    {
      "cell_type": "code",
      "metadata": {
        "id": "nVckl4LU2_GS",
        "colab_type": "code",
        "colab": {}
      },
      "source": [
        "data = data.drop(columns=['starttime','stoptime','anumber','bnumber'])"
      ],
      "execution_count": 30,
      "outputs": []
    },
    {
      "cell_type": "code",
      "metadata": {
        "id": "aFQgkSuB28lg",
        "colab_type": "code",
        "colab": {}
      },
      "source": [
        "X = data.iloc[:,:-1]\n",
        "y = data.iloc[:,-1]"
      ],
      "execution_count": 37,
      "outputs": []
    },
    {
      "cell_type": "code",
      "metadata": {
        "id": "20r_8_Ye76g8",
        "colab_type": "code",
        "colab": {}
      },
      "source": [
        "from imblearn.over_sampling.SMOTE"
      ],
      "execution_count": null,
      "outputs": []
    },
    {
      "cell_type": "code",
      "metadata": {
        "id": "jZwkFaGi6zfq",
        "colab_type": "code",
        "colab": {
          "base_uri": "https://localhost:8080/",
          "height": 158
        },
        "outputId": "19238e7a-2331-4dfb-a51b-90372e0e256e"
      },
      "source": [
        "from imblearn.over_sampling import RandomOverSampler\n",
        "from collections import Counter\n",
        "sm = RandomOverSampler()\n",
        "\n",
        "print(\"Before \", '\\n',data.iloc[:,-1].value_counts(), '\\n',)\n",
        "X_sm , y_sm = sm.fit_resample(X,y)\n",
        "print(\"After \", '\\n',Counter(y_sm).keys(), '\\n',Counter(y_sm).values())"
      ],
      "execution_count": 134,
      "outputs": [
        {
          "output_type": "stream",
          "text": [
            "Before  \n",
            " 0    11021\n",
            "1      397\n",
            "Name: label, dtype: int64 \n",
            "\n",
            "After  \n",
            " dict_keys([0, 1]) \n",
            " dict_values([11021, 11021])\n"
          ],
          "name": "stdout"
        }
      ]
    },
    {
      "cell_type": "markdown",
      "metadata": {
        "id": "oBVFgTHi0dIE",
        "colab_type": "text"
      },
      "source": [
        "# Using the Elbow Method to find the Optimal No. of clusters."
      ]
    },
    {
      "cell_type": "code",
      "metadata": {
        "id": "bCOqgDWl0dIL",
        "colab_type": "code",
        "colab": {
          "base_uri": "https://localhost:8080/",
          "height": 294
        },
        "outputId": "f51cc703-e8d6-447b-bffc-47ef17507b98"
      },
      "source": [
        "from sklearn.cluster import KMeans\n",
        "wcss_lst = []\n",
        "for i in range(1, 11):\n",
        "    kmeans = KMeans(n_clusters=i, init='k-means++', random_state=42)\n",
        "    kmeans.fit(X_sm)\n",
        "    wcss = kmeans.inertia_\n",
        "    wcss_lst.append(wcss)\n",
        "\n",
        "\n",
        "import matplotlib.pyplot as plt\n",
        "plt.plot(range(1, 11), wcss_lst)\n",
        "plt.title(\"The Elbow Method\")\n",
        "plt.xlabel(\"No. of clusters\")\n",
        "plt.ylabel(\"WCSS\")\n",
        "plt.show()"
      ],
      "execution_count": 135,
      "outputs": [
        {
          "output_type": "display_data",
          "data": {
            "image/png": "[encoded data removed]",
            "text/plain": [
              "<Figure size 432x288 with 1 Axes>"
            ]
          },
          "metadata": {
            "tags": [],
            "needs_background": "light"
          }
        }
      ]
    },
    {
      "cell_type": "markdown",
      "metadata": {
        "id": "-70-Ep2W0dIY",
        "colab_type": "text"
      },
      "source": [
        "As for No. of clusters = 4 the graph becomes almost flat, it decreases very slowly, \n",
        "but as we need only 2 Clusters as per our problem statement, we choose n_clusters=2"
      ]
    },
    {
      "cell_type": "code",
      "metadata": {
        "id": "r6Ztb9d10dIa",
        "colab_type": "code",
        "colab": {
          "base_uri": "https://localhost:8080/",
          "height": 70
        },
        "outputId": "ae2fd786-1061-44b5-90ee-51e74d455f45"
      },
      "source": [
        "# Training the Model on 2 clusters\n",
        "kmeans = KMeans(n_clusters=2, init=\"k-means++\", random_state=42)\n",
        "kmeans.fit(X_sm)"
      ],
      "execution_count": 142,
      "outputs": [
        {
          "output_type": "execute_result",
          "data": {
            "text/plain": [
              "KMeans(algorithm='auto', copy_x=True, init='k-means++', max_iter=300,\n",
              "       n_clusters=2, n_init=10, n_jobs=None, precompute_distances='auto',\n",
              "       random_state=42, tol=0.0001, verbose=0)"
            ]
          },
          "metadata": {
            "tags": []
          },
          "execution_count": 142
        }
      ]
    },
    {
      "cell_type": "markdown",
      "metadata": {
        "id": "fneKlxiu0dIj",
        "colab_type": "text"
      },
      "source": [
        "Each of the cluster is a grp of customers n that will be our dependent variable."
      ]
    },
    {
      "cell_type": "code",
      "metadata": {
        "id": "yLrJ3gr-0dIl",
        "colab_type": "code",
        "colab": {}
      },
      "source": [
        "y_hat = kmeans.fit_predict(X_sm)"
      ],
      "execution_count": 143,
      "outputs": []
    },
    {
      "cell_type": "code",
      "metadata": {
        "id": "cuJj0tYO5uPe",
        "colab_type": "code",
        "colab": {
          "base_uri": "https://localhost:8080/",
          "height": 194
        },
        "outputId": "a01a735b-acd3-4910-e85b-a55b42e26408"
      },
      "source": [
        "from sklearn.metrics import classification_report\n",
        "from sklearn.metrics import accuracy_score\n",
        "print(accuracy_score(y_sm,y_hat))\n",
        "print(classification_report(y_sm,y_hat))\n"
      ],
      "execution_count": 144,
      "outputs": [
        {
          "output_type": "stream",
          "text": [
            "0.5095272661283006\n",
            "              precision    recall  f1-score   support\n",
            "\n",
            "           0       0.50      0.97      0.66     11021\n",
            "           1       0.63      0.05      0.08     11021\n",
            "\n",
            "    accuracy                           0.51     22042\n",
            "   macro avg       0.57      0.51      0.37     22042\n",
            "weighted avg       0.57      0.51      0.37     22042\n",
            "\n"
          ],
          "name": "stdout"
        }
      ]
    },
    {
      "cell_type": "markdown",
      "metadata": {
        "id": "hUYJ8cKoA9av",
        "colab_type": "text"
      },
      "source": [
        "Bank transaction dataset with Kmeans is the worst combination"
      ]
    },
    {
      "cell_type": "code",
      "metadata": {
        "id": "N0V-tUciBXhx",
        "colab_type": "code",
        "colab": {}
      },
      "source": [
        ""
      ],
      "execution_count": null,
      "outputs": []
    }
  ]
}